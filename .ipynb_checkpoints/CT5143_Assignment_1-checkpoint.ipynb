{
 "cells": [
  {
   "cell_type": "markdown",
   "metadata": {},
   "source": [
    "# CT5143 Machine Learning Assignment 1"
   ]
  },
  {
   "cell_type": "markdown",
   "metadata": {},
   "source": [
    "### Step 1. Problem Definition:"
   ]
  },
  {
   "cell_type": "markdown",
   "metadata": {},
   "source": [
    "We are given a training and test set of data, from which we have to classify instances in the test set to a style of beer: ale, larger, or stout"
   ]
  },
  {
   "cell_type": "code",
   "execution_count": 1,
   "metadata": {},
   "outputs": [],
   "source": [
    "# Import all the necessary modules to be used throughout the notebook\n",
    "import pandas as pd\n",
    "import numpy as np\n",
    "\n",
    "from sklearn.preprocessing import StandardScaler\n",
    "from sklearn.feature_selection import SelectKBest\n",
    "from sklearn.feature_selection import f_classif\n",
    "\n",
    "from sklearn import neighbors\n",
    "from sklearn.decomposition import PCA\n",
    "from sklearn import svm\n",
    "\n",
    "from sklearn.metrics import accuracy_score\n",
    "from sklearn.metrics import classification_report, confusion_matrix\n",
    "from sklearn.metrics import plot_confusion_matrix\n",
    "from sklearn.model_selection import cross_val_score\n",
    "\n",
    "import matplotlib.pyplot as plt\n",
    "%matplotlib inline"
   ]
  },
  {
   "cell_type": "markdown",
   "metadata": {},
   "source": [
    "### Step 2. Data Preparation:"
   ]
  },
  {
   "cell_type": "code",
   "execution_count": 2,
   "metadata": {},
   "outputs": [
    {
     "name": "stdout",
     "output_type": "stream",
     "text": [
      "           0         1         2    3         4      5          6    7      8  \\\n",
      "0  45.305310  0.459548  1.917273  ale  4.227692  16.67  12.568947  167  11.04   \n",
      "1  43.889381  0.548977  3.186364  ale  4.289231  16.73  14.974000  128  13.44   \n",
      "2  41.588496  0.542847  1.568182  ale  4.344615  16.48  11.848789   88  14.04   \n",
      "3  44.553097  0.480301  1.871818  ale  4.424615  18.59  13.879632  147  12.48   \n",
      "4  41.013274  0.441860  2.345455  ale  4.264615  16.35  12.186053   74  12.12   \n",
      "\n",
      "           9  \n",
      "0  62.178571  \n",
      "1  63.032857  \n",
      "2  63.468571  \n",
      "3  63.531429  \n",
      "4  63.747143  \n",
      "           0         1         2    3         4      5          6    7      8  \\\n",
      "0  41.721239  0.503276  2.628182  ale  4.015385  16.73  10.452789   93  13.44   \n",
      "1  42.429204  0.525512  1.776364  ale  4.092308  16.72  10.999526  103  12.24   \n",
      "2  45.880531  0.443233  2.628182  ale  4.276923  16.68  13.456368  178  10.92   \n",
      "3  45.305310  0.471668  1.806364  ale  4.126154  18.84   9.202737  166  10.92   \n",
      "4  38.977876  0.392846  2.272727  ale  4.015385  16.77   9.457895   44  10.56   \n",
      "\n",
      "           9  \n",
      "0  55.337143  \n",
      "1  58.380000  \n",
      "2  58.382857  \n",
      "3  58.525714  \n",
      "4  58.900000  \n"
     ]
    }
   ],
   "source": [
    "# import the training and test datasets\n",
    "d1 = pd.read_csv(\"beer_training.txt\",sep='\\t', header=None)\n",
    "d2 = pd.read_csv(\"beer_test.txt\",sep='\\t', header=None)\n",
    "# view raw training dataset\n",
    "print(d1.head(5))\n",
    "# view raw test dataset\n",
    "print(d2.head(5))"
   ]
  },
  {
   "cell_type": "code",
   "execution_count": 3,
   "metadata": {},
   "outputs": [
    {
     "name": "stdout",
     "output_type": "stream",
     "text": [
      "   calorific_value  nitrogen  turbidity style   alcohol  sugars  bitterness  \\\n",
      "0        45.305310  0.459548   1.917273   ale  4.227692   16.67   12.568947   \n",
      "1        43.889381  0.548977   3.186364   ale  4.289231   16.73   14.974000   \n",
      "2        41.588496  0.542847   1.568182   ale  4.344615   16.48   11.848789   \n",
      "3        44.553097  0.480301   1.871818   ale  4.424615   18.59   13.879632   \n",
      "4        41.013274  0.441860   2.345455   ale  4.264615   16.35   12.186053   \n",
      "\n",
      "   beer_id  colour  degree_of_fermentation  \n",
      "0      167   11.04               62.178571  \n",
      "1      128   13.44               63.032857  \n",
      "2       88   14.04               63.468571  \n",
      "3      147   12.48               63.531429  \n",
      "4       74   12.12               63.747143  \n",
      "   calorific_value  nitrogen  turbidity style   alcohol  sugars  bitterness  \\\n",
      "0        41.721239  0.503276   2.628182   ale  4.015385   16.73   10.452789   \n",
      "1        42.429204  0.525512   1.776364   ale  4.092308   16.72   10.999526   \n",
      "2        45.880531  0.443233   2.628182   ale  4.276923   16.68   13.456368   \n",
      "3        45.305310  0.471668   1.806364   ale  4.126154   18.84    9.202737   \n",
      "4        38.977876  0.392846   2.272727   ale  4.015385   16.77    9.457895   \n",
      "\n",
      "   beer_id  colour  degree_of_fermentation  \n",
      "0       93   13.44               55.337143  \n",
      "1      103   12.24               58.380000  \n",
      "2      178   10.92               58.382857  \n",
      "3      166   10.92               58.525714  \n",
      "4       44   10.56               58.900000  \n"
     ]
    }
   ],
   "source": [
    "# As per the probelm worksheet the attribute names are as follows and in this order:\n",
    "# calorific_value, nitrogen, turbidity, style, alcohol, sugars, bitterness, beer_id, colour, degree_of_fermentation\n",
    "d1.columns =['calorific_value', 'nitrogen', 'turbidity', 'style', 'alcohol', 'sugars', 'bitterness', 'beer_id', \\\n",
    "             'colour', 'degree_of_fermentation']\n",
    "\n",
    "d2.columns =['calorific_value', 'nitrogen', 'turbidity', 'style', 'alcohol', 'sugars', 'bitterness', 'beer_id', \\\n",
    "             'colour', 'degree_of_fermentation']\n",
    "print(d1.head(5))\n",
    "print(d2.head(5))"
   ]
  },
  {
   "cell_type": "markdown",
   "metadata": {},
   "source": [
    "The 'style' attribute is the target attribute we are classifying our data instances to."
   ]
  },
  {
   "cell_type": "code",
   "execution_count": 4,
   "metadata": {},
   "outputs": [
    {
     "name": "stdout",
     "output_type": "stream",
     "text": [
      "   calorific_value  nitrogen  turbidity   alcohol  sugars  bitterness  \\\n",
      "0        45.305310  0.459548   1.917273  4.227692   16.67   12.568947   \n",
      "1        43.889381  0.548977   3.186364  4.289231   16.73   14.974000   \n",
      "2        41.588496  0.542847   1.568182  4.344615   16.48   11.848789   \n",
      "3        44.553097  0.480301   1.871818  4.424615   18.59   13.879632   \n",
      "4        41.013274  0.441860   2.345455  4.264615   16.35   12.186053   \n",
      "\n",
      "   beer_id  colour  degree_of_fermentation style  \n",
      "0      167   11.04               62.178571   ale  \n",
      "1      128   13.44               63.032857   ale  \n",
      "2       88   14.04               63.468571   ale  \n",
      "3      147   12.48               63.531429   ale  \n",
      "4       74   12.12               63.747143   ale  \n",
      "   calorific_value  nitrogen  turbidity   alcohol  sugars  bitterness  \\\n",
      "0        41.721239  0.503276   2.628182  4.015385   16.73   10.452789   \n",
      "1        42.429204  0.525512   1.776364  4.092308   16.72   10.999526   \n",
      "2        45.880531  0.443233   2.628182  4.276923   16.68   13.456368   \n",
      "3        45.305310  0.471668   1.806364  4.126154   18.84    9.202737   \n",
      "4        38.977876  0.392846   2.272727  4.015385   16.77    9.457895   \n",
      "\n",
      "   beer_id  colour  degree_of_fermentation style  \n",
      "0       93   13.44               55.337143   ale  \n",
      "1      103   12.24               58.380000   ale  \n",
      "2      178   10.92               58.382857   ale  \n",
      "3      166   10.92               58.525714   ale  \n",
      "4       44   10.56               58.900000   ale  \n"
     ]
    }
   ],
   "source": [
    "# for ease of data manipulation I'll move the style column to be the final column in the dataframe\n",
    "# though this is more for aesthectic reasons.\n",
    "d1 = d1[['calorific_value', 'nitrogen', 'turbidity', 'alcohol', 'sugars', 'bitterness', 'beer_id', \\\n",
    "             'colour', 'degree_of_fermentation', 'style']]\n",
    "\n",
    "d2 = d2[['calorific_value', 'nitrogen', 'turbidity', 'alcohol', 'sugars', 'bitterness', 'beer_id', \\\n",
    "             'colour', 'degree_of_fermentation', 'style']]\n",
    "print(d1.head(5))\n",
    "print(d2.head(5))"
   ]
  },
  {
   "cell_type": "code",
   "execution_count": 5,
   "metadata": {},
   "outputs": [
    {
     "name": "stdout",
     "output_type": "stream",
     "text": [
      "(124, 10)\n",
      "calorific_value           float64\n",
      "nitrogen                  float64\n",
      "turbidity                 float64\n",
      "alcohol                   float64\n",
      "sugars                    float64\n",
      "bitterness                float64\n",
      "beer_id                     int64\n",
      "colour                    float64\n",
      "degree_of_fermentation    float64\n",
      "style                      object\n",
      "dtype: object\n",
      "(30, 10)\n",
      "calorific_value           float64\n",
      "nitrogen                  float64\n",
      "turbidity                 float64\n",
      "alcohol                   float64\n",
      "sugars                    float64\n",
      "bitterness                float64\n",
      "beer_id                     int64\n",
      "colour                    float64\n",
      "degree_of_fermentation    float64\n",
      "style                      object\n",
      "dtype: object\n"
     ]
    }
   ],
   "source": [
    "# identify shape and data types of each column for data understanding\n",
    "print(d1.shape)\n",
    "print(d1.dtypes)\n",
    "\n",
    "print(d2.shape)\n",
    "print(d2.dtypes)"
   ]
  },
  {
   "cell_type": "markdown",
   "metadata": {},
   "source": [
    "### Split the training and test data into attributes and target"
   ]
  },
  {
   "cell_type": "code",
   "execution_count": 6,
   "metadata": {},
   "outputs": [],
   "source": [
    "X_train = d1.loc[:, d1.columns != 'style']\n",
    "y_train = d1.loc[:,'style']\n",
    "\n",
    "X_test = d2.loc[:, d1.columns != 'style']\n",
    "y_test = d2.loc[:,'style']"
   ]
  },
  {
   "cell_type": "markdown",
   "metadata": {},
   "source": [
    "### Scale features to reduce bias on classes that are dominant "
   ]
  },
  {
   "cell_type": "code",
   "execution_count": 7,
   "metadata": {},
   "outputs": [],
   "source": [
    "scaler = StandardScaler()\n",
    "X_train = pd.DataFrame(scaler.fit_transform(X_train)) \n",
    "X_test = pd.DataFrame(scaler.fit_transform(X_test))\n",
    "\n",
    "# add columns names back on to the scaled datasets\n",
    "\n",
    "X_train.columns = [['calorific_value', 'nitrogen', 'turbidity', 'alcohol', 'sugars', 'bitterness', 'beer_id', \\\n",
    "             'colour', 'degree_of_fermentation']]\n",
    "X_test.columns = [['calorific_value', 'nitrogen', 'turbidity', 'alcohol', 'sugars', 'bitterness', 'beer_id', \\\n",
    "             'colour', 'degree_of_fermentation']]"
   ]
  },
  {
   "cell_type": "markdown",
   "metadata": {},
   "source": [
    "### Feature selection"
   ]
  },
  {
   "cell_type": "code",
   "execution_count": 8,
   "metadata": {},
   "outputs": [
    {
     "name": "stdout",
     "output_type": "stream",
     "text": [
      "                   Attribute       Score\n",
      "1                (nitrogen,)  137.030340\n",
      "3                 (alcohol,)  104.102627\n",
      "7                  (colour,)   81.577728\n",
      "5              (bitterness,)   77.414101\n",
      "2               (turbidity,)   72.811679\n",
      "4                  (sugars,)   38.245345\n",
      "8  (degree_of_fermentation,)    9.112575\n",
      "0         (calorific_value,)    1.051558\n",
      "6                 (beer_id,)    0.992585\n"
     ]
    }
   ],
   "source": [
    "bestfeatures = SelectKBest(score_func=f_classif, k = 'all')\n",
    "fit = bestfeatures.fit(X_train,y_train)\n",
    "dfscores = pd.DataFrame(fit.scores_)\n",
    "dfcolumns = pd.DataFrame(X_train.columns)\n",
    "featureScores = pd.concat([dfcolumns, dfscores],axis=1)\n",
    "featureScores.columns = ['Attribute','Score']\n",
    "print(featureScores.nlargest(10,'Score'))"
   ]
  },
  {
   "cell_type": "markdown",
   "metadata": {},
   "source": [
    "The output shows there are 6 features (attributes) that have a scores above 10 (taken as an arbitrary value of usefulness). We can therefore select only these features to see if it will improve the accuracy of our model"
   ]
  },
  {
   "cell_type": "code",
   "execution_count": 9,
   "metadata": {},
   "outputs": [],
   "source": [
    "X_train = X_train.loc[:, ['nitrogen','alcohol','colour','bitterness','turbidity','sugars']]\n",
    "X_test = X_test.loc[:, ['nitrogen','alcohol','colour','bitterness','turbidity','sugars']]"
   ]
  },
  {
   "cell_type": "markdown",
   "metadata": {},
   "source": [
    "## Using a method we have previously studied - I chose a kNN classifier"
   ]
  },
  {
   "cell_type": "markdown",
   "metadata": {},
   "source": [
    "## Step 3. Train the model"
   ]
  },
  {
   "cell_type": "code",
   "execution_count": 10,
   "metadata": {},
   "outputs": [
    {
     "name": "stdout",
     "output_type": "stream",
     "text": [
      "['ale' 'ale' 'ale' 'ale' 'ale' 'ale' 'ale' 'ale' 'ale' 'ale' 'lager'\n",
      " 'lager' 'lager' 'ale' 'lager' 'lager' 'lager' 'lager' 'ale' 'lager'\n",
      " 'stout' 'stout' 'stout' 'stout' 'stout' 'stout' 'stout' 'stout' 'stout'\n",
      " 'stout']\n"
     ]
    }
   ],
   "source": [
    "# Make a copy of the dataset for kNN model\n",
    "knn_X_train = X_train\n",
    "knn_y_train = y_train\n",
    "knn_X_test = X_test\n",
    "knn_y_test = y_test\n",
    "\n",
    "# specify number of neighbour data points\n",
    "n_neighbours = 7\n",
    "\n",
    "knn_clf = neighbors.KNeighborsClassifier(n_neighbours, weights='distance')\n",
    "knn_clf.fit(knn_X_train, knn_y_train)\n",
    "knn_y_pred = knn_clf.predict(knn_X_test)\n",
    "print(knn_y_pred)"
   ]
  },
  {
   "cell_type": "markdown",
   "metadata": {},
   "source": [
    "## Step 4. Evaluate the model"
   ]
  },
  {
   "cell_type": "markdown",
   "metadata": {},
   "source": [
    "### Confusion Matrix & Classification Report (Precision, Recall, F1-Score, Accuracy)"
   ]
  },
  {
   "cell_type": "code",
   "execution_count": 11,
   "metadata": {},
   "outputs": [
    {
     "name": "stdout",
     "output_type": "stream",
     "text": [
      "Train Accuracy:1.0000\n",
      "Test Accuracy:0.9333\n"
     ]
    },
    {
     "data": {
      "image/png": "[encoded data removed]",
      "text/plain": [
       "<Figure size 432x288 with 2 Axes>"
      ]
     },
     "metadata": {
      "needs_background": "light"
     },
     "output_type": "display_data"
    },
    {
     "name": "stdout",
     "output_type": "stream",
     "text": [
      "Classification Report: \n",
      "              precision    recall  f1-score   support\n",
      "\n",
      "         ale       0.83      1.00      0.91        10\n",
      "       lager       1.00      0.80      0.89        10\n",
      "       stout       1.00      1.00      1.00        10\n",
      "\n",
      "    accuracy                           0.93        30\n",
      "   macro avg       0.94      0.93      0.93        30\n",
      "weighted avg       0.94      0.93      0.93        30\n",
      "\n"
     ]
    }
   ],
   "source": [
    "print(\"Train Accuracy:\" + str(\"{:.4f}\".format(accuracy_score(knn_y_train, knn_clf.predict(knn_X_train)))))\n",
    "print(\"Test Accuracy:\" +  str(\"{:.4f}\".format(accuracy_score(knn_y_test, knn_y_pred))))\n",
    "plot_confusion_matrix(knn_clf, knn_X_test, knn_y_test)\n",
    "plt.show()\n",
    "print(\"Classification Report: \\n\" + classification_report(knn_y_test, knn_y_pred))"
   ]
  },
  {
   "cell_type": "markdown",
   "metadata": {},
   "source": [
    "### Cross-validation method for evaluating the model\n",
    "#### https://scikit-learn.org/stable/modules/cross_validation.html#cross-validation\n",
    "#### https://machinelearningmastery.com/k-fold-cross-validation/"
   ]
  },
  {
   "cell_type": "code",
   "execution_count": 12,
   "metadata": {},
   "outputs": [
    {
     "name": "stdout",
     "output_type": "stream",
     "text": [
      "Accuracy: 0.9590 (+/- 0.1109)\n"
     ]
    }
   ],
   "source": [
    "knn_scores = cross_val_score(knn_clf, knn_X_train, knn_y_train, cv=10) \n",
    "print(\"Accuracy: %0.4f (+/- %0.4f)\" % (knn_scores.mean(), knn_scores.std() * 2))"
   ]
  },
  {
   "cell_type": "markdown",
   "metadata": {},
   "source": [
    "## Step 5. Visualise the decision output"
   ]
  },
  {
   "cell_type": "code",
   "execution_count": 13,
   "metadata": {},
   "outputs": [],
   "source": [
    "# Convert training target to numerical for visualisation purposes\n",
    "knn_y_train = knn_y_train.astype('category')\n",
    "knn_y_train = knn_y_train.cat.codes\n",
    "#knn_y_train"
   ]
  },
  {
   "cell_type": "code",
   "execution_count": 14,
   "metadata": {},
   "outputs": [],
   "source": [
    "# Convert training target to numerical for visualisation purposes\n",
    "knn_y_test = knn_y_test.astype('category')\n",
    "knn_y_test = knn_y_test.cat.codes\n",
    "#knn_y_test"
   ]
  },
  {
   "cell_type": "code",
   "execution_count": 15,
   "metadata": {},
   "outputs": [],
   "source": [
    "# Convert predicted target to numerical for visualisation purposes\n",
    "knn_y_pred = pd.Series(knn_y_pred)\n",
    "knn_y_pred = knn_y_pred.astype('category')\n",
    "knn_y_pred = knn_y_pred.cat.codes"
   ]
  },
  {
   "cell_type": "markdown",
   "metadata": {},
   "source": [
    "### Code taken and adapated from:\n",
    "### https://towardsdatascience.com/easily-visualize-scikit-learn-models-decision-boundaries-dd0fb3747508"
   ]
  },
  {
   "cell_type": "code",
   "execution_count": 16,
   "metadata": {},
   "outputs": [],
   "source": [
    "def plot_decision_boundaries(X, y, model_class, **model_params):\n",
    "    \"\"\"\n",
    "    Function to plot the decision boundaries of a classification model.\n",
    "    This uses just the first two columns of the data for fitting \n",
    "    the model as we need to find the predicted value for every point in \n",
    "    scatter plot.\n",
    "    Arguments:\n",
    "            X: Feature data as a NumPy-type array.\n",
    "            y: Label data as a NumPy-type array.\n",
    "            model_class: A Scikit-learn ML estimator class \n",
    "            e.g. GaussianNB (imported from sklearn.naive_bayes) or\n",
    "            LogisticRegression (imported from sklearn.linear_model)\n",
    "            **model_params: Model parameters to be passed on to the ML estimator\n",
    "    \n",
    "    Typical code example:\n",
    "            plt.figure()\n",
    "            plt.title(\"KNN decision boundary with neighbros: 5\",fontsize=16)\n",
    "            plot_decision_boundaries(X_train,y_train,KNeighborsClassifier,n_neighbors=5)\n",
    "            plt.show()\n",
    "    \"\"\"\n",
    "    try:\n",
    "        X = np.array(X)\n",
    "        y = np.array(y).flatten()\n",
    "    except:\n",
    "        print(\"Coercing input data to NumPy arrays failed\")\n",
    "    # Reduces to the first two columns of data, while this appears necessary in this function for visualisation, \n",
    "    # arbitrarily taking the first two features might not indicate which features had the most impact in the \n",
    "    # model classification\n",
    "    reduced_data = X[:, :2]\n",
    "    # Instantiate the model object\n",
    "    model = knn_clf # trained calssification model from previous step.\n",
    "    # Fits the model with the reduced data\n",
    "    model.fit(reduced_data, y)\n",
    "\n",
    "    # Step size of the mesh. Decrease to increase the quality of the VQ.\n",
    "    h = .02     # point in the mesh [x_min, m_max]x[y_min, y_max].    \n",
    "\n",
    "    # Plot the decision boundary. For that, we will assign a color to each\n",
    "    x_min, x_max = reduced_data[:, 0].min() - 1, reduced_data[:, 0].max() + 1\n",
    "    y_min, y_max = reduced_data[:, 1].min() - 1, reduced_data[:, 1].max() + 1\n",
    "    # Meshgrid creation\n",
    "    xx, yy = np.meshgrid(np.arange(x_min, x_max, h), np.arange(y_min, y_max, h))\n",
    "\n",
    "    # Obtain labels for each point in mesh using the model.\n",
    "    Z = model.predict(np.c_[xx.ravel(), yy.ravel()])    \n",
    "\n",
    "    x_min, x_max = X[:, 0].min() - 1, X[:, 0].max() + 1\n",
    "    y_min, y_max = X[:, 1].min() - 1, X[:, 1].max() + 1\n",
    "    xx, yy = np.meshgrid(np.arange(x_min, x_max, 0.1),\n",
    "                         np.arange(y_min, y_max, 0.1))\n",
    "\n",
    "    # Predictions to obtain the classification results\n",
    "    Z = model.predict(np.c_[xx.ravel(), yy.ravel()]).reshape(xx.shape)\n",
    "\n",
    "    # Plotting\n",
    "    plt.contourf(xx, yy, Z, alpha=0.4)\n",
    "    plt.scatter(X[:, 0], X[:, 1], c=y, alpha=0.8)\n",
    "    plt.xlabel(\"Feature-1\",fontsize=15)\n",
    "    plt.ylabel(\"Feature-2\",fontsize=15)\n",
    "    plt.xticks(fontsize=14)\n",
    "    plt.yticks(fontsize=14)\n",
    "    return plt"
   ]
  },
  {
   "cell_type": "code",
   "execution_count": 17,
   "metadata": {},
   "outputs": [
    {
     "data": {
      "image/png": "[encoded data removed]",
      "text/plain": [
       "<Figure size 432x288 with 1 Axes>"
      ]
     },
     "metadata": {
      "needs_background": "light"
     },
     "output_type": "display_data"
    }
   ],
   "source": [
    "plt.figure()\n",
    "plt.title(\"K-nearest neighbour decision boundary - Training Data\",fontsize=16)\n",
    "plot_decision_boundaries(knn_X_train, knn_y_train, plt)\n",
    "# I turned off the axis display as the two features are arbitrary and do not inform\n",
    "# the importance of the features to the model decision boundaries only the decision\n",
    "# boundaries in the visualisation of the model\n",
    "plt.axis('off')\n",
    "plt.show()"
   ]
  },
  {
   "cell_type": "code",
   "execution_count": 18,
   "metadata": {},
   "outputs": [
    {
     "data": {
      "image/png": "[encoded data removed]",
      "text/plain": [
       "<Figure size 432x288 with 1 Axes>"
      ]
     },
     "metadata": {
      "needs_background": "light"
     },
     "output_type": "display_data"
    }
   ],
   "source": [
    "plt.figure()\n",
    "plt.title(\"K-nearest neighbour decision boundary - Test Data\",fontsize=16)\n",
    "plot_decision_boundaries(knn_X_test, knn_y_test, plt)\n",
    "plt.axis('off')\n",
    "plt.show()"
   ]
  },
  {
   "cell_type": "code",
   "execution_count": 19,
   "metadata": {},
   "outputs": [
    {
     "data": {
      "image/png": "[encoded data removed]",
      "text/plain": [
       "<Figure size 432x288 with 1 Axes>"
      ]
     },
     "metadata": {
      "needs_background": "light"
     },
     "output_type": "display_data"
    }
   ],
   "source": [
    "plt.figure()\n",
    "plt.title(\"K-nearest neighbour decision boundary - Predicted Data\",fontsize=16)\n",
    "plot_decision_boundaries(knn_X_test, knn_y_pred, plt)\n",
    "plt.axis('off')\n",
    "plt.show()"
   ]
  },
  {
   "cell_type": "markdown",
   "metadata": {},
   "source": [
    "## Using a method we have yet to study I am choosing the Support Vector Machine algorthim"
   ]
  },
  {
   "cell_type": "markdown",
   "metadata": {},
   "source": [
    "## Step 3. Train the model"
   ]
  },
  {
   "cell_type": "code",
   "execution_count": 20,
   "metadata": {},
   "outputs": [],
   "source": [
    "# Make a copy of the dataset for SVM model\n",
    "svm_X_train = X_train\n",
    "svm_y_train = y_train\n",
    "svm_X_test = X_test\n",
    "svm_y_test = y_test"
   ]
  },
  {
   "cell_type": "markdown",
   "metadata": {},
   "source": [
    "### The SVM algorthim requires it's taget variables to be numerical as opposed to categorical type"
   ]
  },
  {
   "cell_type": "code",
   "execution_count": 21,
   "metadata": {},
   "outputs": [],
   "source": [
    "# Convert target values in both train and test datasets to numerics\n",
    "svm_y_train = svm_y_train.astype('category')\n",
    "svm_y_train = svm_y_train.cat.codes\n",
    "\n",
    "svm_y_test = svm_y_test.astype('category')\n",
    "svm_y_test = svm_y_test.cat.codes"
   ]
  },
  {
   "cell_type": "markdown",
   "metadata": {},
   "source": [
    "### As our data set is a multi-class classification problem, for the SVM model as per the scikit-learn documentation* we should choose a decision fucntion shape of one-v-one\n",
    "\n",
    "### *https://scikit-learn.org/stable/modules/generated/sklearn.svm.SVC.html#sklearn.svm.SVC"
   ]
  },
  {
   "cell_type": "code",
   "execution_count": 22,
   "metadata": {},
   "outputs": [],
   "source": [
    "svm_clf = svm.SVC(kernel='linear', C=1, decision_function_shape='ovo')\n",
    "svm_clf.fit(X_train, svm_y_train)\n",
    "\n",
    "svm_y_pred = svm_clf.predict(X_test)"
   ]
  },
  {
   "cell_type": "markdown",
   "metadata": {},
   "source": [
    "## Step 4. Evaluate the model"
   ]
  },
  {
   "cell_type": "code",
   "execution_count": 23,
   "metadata": {},
   "outputs": [
    {
     "name": "stdout",
     "output_type": "stream",
     "text": [
      "Train Accuracy:0.9758\n",
      "Test Accuracy:0.9667\n"
     ]
    },
    {
     "data": {
      "image/png": "[encoded data removed]",
      "text/plain": [
       "<Figure size 432x288 with 2 Axes>"
      ]
     },
     "metadata": {
      "needs_background": "light"
     },
     "output_type": "display_data"
    },
    {
     "name": "stdout",
     "output_type": "stream",
     "text": [
      "Classification Report: \n",
      "              precision    recall  f1-score   support\n",
      "\n",
      "           0       1.00      1.00      1.00        10\n",
      "           1       0.91      1.00      0.95        10\n",
      "           2       1.00      0.90      0.95        10\n",
      "\n",
      "    accuracy                           0.97        30\n",
      "   macro avg       0.97      0.97      0.97        30\n",
      "weighted avg       0.97      0.97      0.97        30\n",
      "\n"
     ]
    }
   ],
   "source": [
    "print(\"Train Accuracy:\" + str(\"{:.4f}\".format(accuracy_score(svm_y_train, svm_clf.predict(svm_X_train)))))\n",
    "print(\"Test Accuracy:\" +  str(\"{:.4f}\".format(accuracy_score(svm_y_test, svm_y_pred))))\n",
    "plot_confusion_matrix(svm_clf, svm_X_test, svm_y_test)\n",
    "plt.show()\n",
    "print(\"Classification Report: \\n\" + classification_report(svm_y_test, svm_y_pred))"
   ]
  },
  {
   "cell_type": "markdown",
   "metadata": {},
   "source": [
    "### Cross-validation method for evaluating model"
   ]
  },
  {
   "cell_type": "code",
   "execution_count": 24,
   "metadata": {},
   "outputs": [
    {
     "name": "stdout",
     "output_type": "stream",
     "text": [
      "Accuracy: 0.9590 (+/- 0.0821)\n"
     ]
    }
   ],
   "source": [
    "svm_scores = cross_val_score(svm_clf, svm_X_train, svm_y_train, cv=10) \n",
    "print(\"Accuracy: %0.4f (+/- %0.4f)\" % (svm_scores.mean(), svm_scores.std() * 2))"
   ]
  },
  {
   "cell_type": "markdown",
   "metadata": {},
   "source": [
    "## Step 5. Visualise the decision output"
   ]
  },
  {
   "cell_type": "markdown",
   "metadata": {},
   "source": [
    "### Visualing the SVM support vectors beyond 2 dimension has proved tricky. I found this solution online, that plots the IRIS dataset using PCA\n",
    "#### https://www.dummies.com/programming/big-data/data-science/how-to-visualize-the-classifier-in-an-svm-supervised-learning-model/"
   ]
  },
  {
   "cell_type": "code",
   "execution_count": 25,
   "metadata": {},
   "outputs": [
    {
     "data": {
      "image/png": "[encoded data removed]",
      "text/plain": [
       "<Figure size 432x288 with 1 Axes>"
      ]
     },
     "metadata": {
      "needs_background": "light"
     },
     "output_type": "display_data"
    }
   ],
   "source": [
    "# Identifying the top 2 principal components in the data set\n",
    "pca = PCA(n_components=2).fit(svm_X_train)\n",
    "pca_2d = pca.transform(svm_X_train)\n",
    "# fit the model created in the previous step to the calculated princpal components of the training data set and training target\n",
    "svmClassifier_2d = svm_clf.fit(pca_2d, svm_y_train) \n",
    "for i in range(0, pca_2d.shape[0]):\n",
    "    if svm_y_train[i] == 0:\n",
    "        c1 = plt.scatter(pca_2d[i,0], pca_2d[i,1], c='r', s=50, marker='+') # Ale\n",
    "    elif svm_y_train[i] == 1:\n",
    "        c2 = plt.scatter(pca_2d[i,0], pca_2d[i,1], c='g', s=50, marker='o') # Lager\n",
    "    elif svm_y_train[i] == 2:\n",
    "        c3 = plt.scatter(pca_2d[i,0], pca_2d[i,1], c='b', s=50, marker='*') # Stout\n",
    "\n",
    "plt.legend([c1, c2, c3], ['Ale', 'Lager',   'Stout'])\n",
    "x_min, x_max = pca_2d[:, 0].min() - 1,   pca_2d[:,0].max() + 1\n",
    "y_min, y_max = pca_2d[:, 1].min() - 1,   pca_2d[:, 1].max() + 1\n",
    "xx, yy = np.meshgrid(np.arange(x_min, x_max, .01),   np.arange(y_min, y_max, .01))\n",
    "Z = svmClassifier_2d.predict(np.c_[xx.ravel(),  yy.ravel()])\n",
    "Z = Z.reshape(xx.shape)\n",
    "plt.contour(xx, yy, Z)\n",
    "plt.title('Support Vector Machine Decision Surface - Training Data', fontsize = 16)\n",
    "plt.axis('off')\n",
    "plt.show()"
   ]
  },
  {
   "cell_type": "markdown",
   "metadata": {},
   "source": [
    "### Check if labels for targets are correct"
   ]
  },
  {
   "cell_type": "code",
   "execution_count": 26,
   "metadata": {},
   "outputs": [
    {
     "name": "stdout",
     "output_type": "stream",
     "text": [
      "42\n",
      "44\n",
      "38\n",
      "42\n",
      "44\n",
      "38\n"
     ]
    }
   ],
   "source": [
    "print(sum(svm_y_train==0)) # 42\n",
    "print(sum(svm_y_train==1)) # 44\n",
    "print(sum(svm_y_train==2)) # 38\n",
    "print(sum(y_train=='ale')) #42\n",
    "print(sum(y_train=='lager')) # 44\n",
    "print(sum(y_train=='stout')) # 48"
   ]
  },
  {
   "cell_type": "code",
   "execution_count": 27,
   "metadata": {},
   "outputs": [
    {
     "data": {
      "image/png": "[encoded data removed]",
      "text/plain": [
       "<Figure size 432x288 with 1 Axes>"
      ]
     },
     "metadata": {
      "needs_background": "light"
     },
     "output_type": "display_data"
    }
   ],
   "source": [
    "# Identifying the top 2 principal components in the data set\n",
    "pca = PCA(n_components=2).fit(svm_X_test)\n",
    "pca_2d = pca.transform(svm_X_test)\n",
    "# fit the model created in the previous step to the calculated princpal components of the training data set and training target\n",
    "svmClassifier_2d = svm_clf.fit(pca_2d, svm_y_test)\n",
    "for i in range(0, pca_2d.shape[0]):\n",
    "    if svm_y_test[i] == 0:\n",
    "        c1 = plt.scatter(pca_2d[i,0], pca_2d[i,1], c='r', s=50, marker='+') # Ale\n",
    "    elif svm_y_test[i] == 1:\n",
    "        c2 = plt.scatter(pca_2d[i,0], pca_2d[i,1], c='g', s=50, marker='o') # Lager\n",
    "    elif svm_y_test[i] == 2:\n",
    "        c3 = plt.scatter(pca_2d[i,0], pca_2d[i,1], c='b', s=50, marker='*') # Stout\n",
    "\n",
    "plt.legend([c1, c2, c3], ['Ale', 'Lager',   'Stout'])\n",
    "x_min, x_max = pca_2d[:, 0].min() - 1,   pca_2d[:,0].max() + 1\n",
    "y_min, y_max = pca_2d[:, 1].min() - 1,   pca_2d[:, 1].max() + 1\n",
    "xx, yy = np.meshgrid(np.arange(x_min, x_max, .01),   np.arange(y_min, y_max, .01))\n",
    "Z = svmClassifier_2d.predict(np.c_[xx.ravel(),  yy.ravel()])\n",
    "Z = Z.reshape(xx.shape)\n",
    "plt.contour(xx, yy, Z)\n",
    "plt.title('Support Vector Machine Decision Surface - Testing Data', fontsize = 16)\n",
    "plt.axis('off')\n",
    "plt.show()"
   ]
  },
  {
   "cell_type": "markdown",
   "metadata": {},
   "source": [
    "### Check if target labels are correct"
   ]
  },
  {
   "cell_type": "code",
   "execution_count": 28,
   "metadata": {},
   "outputs": [
    {
     "name": "stdout",
     "output_type": "stream",
     "text": [
      "10\n",
      "10\n",
      "10\n",
      "10\n",
      "10\n",
      "10\n"
     ]
    }
   ],
   "source": [
    "print(sum(svm_y_test==0)) # 10\n",
    "print(sum(svm_y_test==1)) # 10\n",
    "print(sum(svm_y_test==2)) # 10\n",
    "print(sum(y_test=='ale')) # 10\n",
    "print(sum(y_test=='lager')) # 10\n",
    "print(sum(y_test=='stout')) # 10"
   ]
  },
  {
   "cell_type": "code",
   "execution_count": 29,
   "metadata": {},
   "outputs": [
    {
     "data": {
      "image/png": "[encoded data removed]",
      "text/plain": [
       "<Figure size 432x288 with 1 Axes>"
      ]
     },
     "metadata": {
      "needs_background": "light"
     },
     "output_type": "display_data"
    }
   ],
   "source": [
    "# Identifying the top 2 principal components in the data set\n",
    "pca = PCA(n_components=2).fit(svm_X_test)\n",
    "pca_2d = pca.transform(svm_X_test)\n",
    "# fit the model created in the previous step to the calculated princpal components of the training data set and training target\n",
    "svmClassifier_2d = svm_clf.fit(pca_2d, svm_y_pred) \n",
    "for i in range(0, pca_2d.shape[0]):\n",
    "    if svm_y_pred[i] == 0:\n",
    "        c1 = plt.scatter(pca_2d[i,0], pca_2d[i,1], c='r', s=50, marker='+') # Ale\n",
    "    elif svm_y_pred[i] == 1:\n",
    "        c2 = plt.scatter(pca_2d[i,0], pca_2d[i,1], c='g', s=50, marker='o') # Lager\n",
    "    elif svm_y_pred[i] == 2:\n",
    "        c3 = plt.scatter(pca_2d[i,0], pca_2d[i,1], c='b', s=50, marker='*') # Stout\n",
    "\n",
    "plt.legend([c1, c2, c3], ['Ale', 'Lager',   'Stout'])\n",
    "x_min, x_max = pca_2d[:, 0].min() - 1,   pca_2d[:,0].max() + 1\n",
    "y_min, y_max = pca_2d[:, 1].min() - 1,   pca_2d[:, 1].max() + 1\n",
    "xx, yy = np.meshgrid(np.arange(x_min, x_max, .01),   np.arange(y_min, y_max, .01))\n",
    "Z = svmClassifier_2d.predict(np.c_[xx.ravel(),  yy.ravel()])\n",
    "Z = Z.reshape(xx.shape)\n",
    "plt.contour(xx, yy, Z)\n",
    "plt.title('Support Vector Machine Decision Surface - Predicted Data', fontsize = 16)\n",
    "plt.axis('off')\n",
    "plt.show()"
   ]
  },
  {
   "cell_type": "markdown",
   "metadata": {},
   "source": [
    "### Unlike the previous checks this step allows us to see in addition to the evaluation above where the model mis-calssified data"
   ]
  },
  {
   "cell_type": "code",
   "execution_count": 30,
   "metadata": {},
   "outputs": [
    {
     "name": "stdout",
     "output_type": "stream",
     "text": [
      "10\n",
      "11\n",
      "9\n",
      "10\n",
      "10\n",
      "10\n"
     ]
    }
   ],
   "source": [
    "print(sum(svm_y_pred==0)) # 10\n",
    "print(sum(svm_y_pred==1)) # 11\n",
    "print(sum(svm_y_pred==2)) # 9\n",
    "print(sum(y_test=='ale')) # 10\n",
    "print(sum(y_test=='lager')) # 10\n",
    "print(sum(y_test=='stout')) # 10"
   ]
  },
  {
   "cell_type": "code",
   "execution_count": null,
   "metadata": {},
   "outputs": [],
   "source": []
  }
 ],
 "metadata": {
  "kernelspec": {
   "display_name": "Python 3",
   "language": "python",
   "name": "python3"
  },
  "language_info": {
   "codemirror_mode": {
    "name": "ipython",
    "version": 3
   },
   "file_extension": ".py",
   "mimetype": "text/x-python",
   "name": "python",
   "nbconvert_exporter": "python",
   "pygments_lexer": "ipython3",
   "version": "3.7.7"
  }
 },
 "nbformat": 4,
 "nbformat_minor": 4
}
